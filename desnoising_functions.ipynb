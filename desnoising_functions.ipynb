{
 "cells": [
  {
   "cell_type": "code",
   "execution_count": 1,
   "id": "4f709c3a",
   "metadata": {},
   "outputs": [],
   "source": [
    "import numpy as np\n",
    "import pandas as pd\n",
    "import matplotlib.pyplot as plt\n",
    "import yfinance as yf\n",
    "import seaborn as sns\n",
    "from sklearn.neighbors import KernelDensity\n",
    "from scipy.optimize import minimize"
   ]
  },
  {
   "cell_type": "code",
   "execution_count": 2,
   "id": "7548326e",
   "metadata": {},
   "outputs": [],
   "source": [
    "# Definition of the Marchenko-Pastur density\n",
    "def marchenko_pastur_pdf(x,Q,sigma=1):\n",
    "    y=1/Q\n",
    "    b=np.power(sigma*(1 + np.sqrt(1/Q)),2) # Largest eigenvalue\n",
    "    a=np.power(sigma*(1 - np.sqrt(1/Q)),2) # Smallest eigenvalue\n",
    "    if x > b or x<a:\n",
    "        pdf = 0\n",
    "    else:\n",
    "        pdf = (1/(2*np.pi*sigma*sigma*x*y))*np.sqrt((b-x)*(x-a))\n",
    "        \n",
    "    return pdf\n",
    "\n",
    "    #return (1/(2*np.pi*sigma*sigma*x*y))*np.sqrt((b-x)*(x-a))*(0 if (x > b or x <a ) else 1)\n",
    "    \n",
    "def compare_eigenvalue_distribution(correlation_matrix, Q, sigma=1, set_autoscale = True, show_top = True,show=True):\n",
    "    e, _ = np.linalg.eig(correlation_matrix) # Correlation matrix is Hermitian, so this is faster\n",
    "                                   # than other variants of eig\n",
    "    \n",
    "    x_min = .0001 if np.power(sigma*(1 - np.sqrt(1/Q)),2) < .0001 else np.power(sigma*(1 - np.sqrt(1/Q)),2)\n",
    "    x_max = np.power(sigma*(1 + np.sqrt(1/Q)),2)\n",
    "            \n",
    "    fig = plt.figure()\n",
    "    ax  = fig.add_subplot(111)\n",
    "    bins = 50\n",
    "    if not show_top:\n",
    "            # Clear top eigenvalue from plot\n",
    "        e=e[ e <= x_max+1]\n",
    "    sns.histplot(e, stat='density', bins=50, ax=ax)\n",
    "    #ax.hist(e, density = True, bins=100) # Histogram the eigenvalues\n",
    "    ax.set_autoscale_on(set_autoscale)\n",
    "        \n",
    "        # Plot the theoretical density\n",
    "    f = np.vectorize(lambda x : marchenko_pastur_pdf(x,Q,sigma=sigma))\n",
    "        \n",
    "    x_min = .0001 if np.power(sigma*(1 - np.sqrt(1/Q)),2) < .0001 else np.power(sigma*(1 - np.sqrt(1/Q)),2)\n",
    "    x_max = np.power(sigma*(1 + np.sqrt(1/Q)),2)\n",
    "        \n",
    "    x = np.linspace(x_min,x_max,5000)\n",
    "    ax.plot(x,f(x), linewidth=4, color = 'r')\n",
    "    ax.set_xlim((0,10))"
   ]
  },
  {
   "cell_type": "code",
   "execution_count": 3,
   "id": "1cd2801d",
   "metadata": {},
   "outputs": [],
   "source": [
    "def fitKDE(obs, bWidth=0.25, kernel='gaussian', x=None):\n",
    "    if len(obs.shape)==1:\n",
    "        obs =  obs.reshape(-1,1)\n",
    "    kde =  KernelDensity(kernel=kernel, bandwidth=bWidth).fit(obs)\n",
    "    if x is None:\n",
    "        x = np.unique(obs).reshape(-1,1)\n",
    "    if len(x.shape)==1:\n",
    "        x = x.reshape(-1,1)\n",
    "    logProb = kde.score_samples(x) # Log(density)\n",
    "    pdf = pd.Series(np.exp(logProb).flatten(), index=x.flatten())\n",
    "    return pdf"
   ]
  },
  {
   "cell_type": "code",
   "execution_count": 4,
   "id": "a578e46e",
   "metadata": {},
   "outputs": [],
   "source": [
    "def compare_eigenvalue_distribution_notshow(correlation_matrix, Q, sigma=1, set_autoscale = True, show_top = True,show=True):\n",
    "    e, _ = np.linalg.eig(correlation_matrix) # Correlation matrix is Hermitian, so this is faster\n",
    "                                   # than other variants of eig\n",
    "    \n",
    "    x_min = .0001 if np.power(sigma*(1 - np.sqrt(1/Q)),2) < .0001 else np.power(sigma*(1 - np.sqrt(1/Q)),2)\n",
    "    x_max = np.power(sigma*(1 + np.sqrt(1/Q)),2)\n",
    "\n",
    "    if not show_top:\n",
    "            # Clear top eigenvalue from plot\n",
    "        e=e[ e <= x_max+1]\n",
    "        # Plot the theoretical density\n",
    "    f = np.vectorize(lambda x : marchenko_pastur_pdf(x,Q,sigma=sigma))\n",
    "        \n",
    "    x_min = .0001 if np.power(sigma*(1 - np.sqrt(1/Q)),2) < .0001 else np.power(sigma*(1 - np.sqrt(1/Q)),2)\n",
    "    x_max = np.power(sigma*(1 + np.sqrt(1/Q)),2)\n",
    "    return e, x_max, x_min\n"
   ]
  },
  {
   "cell_type": "code",
   "execution_count": 5,
   "id": "c22ca14a",
   "metadata": {},
   "outputs": [],
   "source": [
    "def pdf_mp(var,q,pts,cor):\n",
    "    eVal,eMax, eMin  = compare_eigenvalue_distribution_notshow(cor, q)\n",
    "    x = np.linspace(eMin,eMax, pts)\n",
    "    f = np.vectorize(lambda x : marchenko_pastur_pdf(x,q,var))\n",
    "    pdf = pd.Series(f(x).flatten(),\n",
    "                   index=x.flatten())\n",
    "    return pdf"
   ]
  },
  {
   "cell_type": "code",
   "execution_count": 6,
   "id": "d7a7e001",
   "metadata": {},
   "outputs": [],
   "source": [
    "def errPDFs(x,eVal,bandwidth,cor, pts=100):\n",
    "    \n",
    "    pdf0 = pdf_mp(x[0],x[1],pts,cor=cor)\n",
    "    \n",
    "    pdf1 = fitKDE(obs=eVal,\n",
    "                      bWidth=bandwidth,\n",
    "                      x=pdf0.index.values)\n",
    "\n",
    "    sse = np.sum((pdf1-pdf0)**2)\n",
    "    return sse"
   ]
  },
  {
   "cell_type": "code",
   "execution_count": 7,
   "id": "d7de545c",
   "metadata": {},
   "outputs": [],
   "source": [
    "def findMaxEval(eVal,bWidth,cor):\n",
    "    # Find max random eVal by fitting Marcenko’s dist\n",
    "    out=minimize(fun= errPDFs,\n",
    "                 x0=(1,12),\n",
    "                 args=(eVal,bWidth,cor),\n",
    "                 bounds=((0,None),\n",
    "                        (0,None)))\n",
    "    result = out\n",
    "    \n",
    "    if out['success']:\n",
    "        var=out['x']#[0]\n",
    "        print('succes')\n",
    "    else:\n",
    "        var=1\n",
    "    #eMax=var[0]*(1+(1./var[1])**.5)**2\n",
    "    return var, result"
   ]
  }
 ],
 "metadata": {
  "kernelspec": {
   "display_name": "Python 3 (ipykernel)",
   "language": "python",
   "name": "python3"
  },
  "language_info": {
   "codemirror_mode": {
    "name": "ipython",
    "version": 3
   },
   "file_extension": ".py",
   "mimetype": "text/x-python",
   "name": "python",
   "nbconvert_exporter": "python",
   "pygments_lexer": "ipython3",
   "version": "3.9.12"
  }
 },
 "nbformat": 4,
 "nbformat_minor": 5
}
